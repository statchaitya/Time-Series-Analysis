{
 "cells": [
  {
   "cell_type": "markdown",
   "metadata": {},
   "source": [
    "## Goal: Fit a time series model to the historical bitcoin daily closing values\n",
    "\n",
    "1. [Simple Exponential Smoothing](#optparam1)\n",
    "2. [Holt's Linear Trend Method](#optparam2)\n",
    "3. [Damped Trend Method](#optparam3)\n",
    "4. [Taxonomy of Exponential Smoothing Methods](#optparam4)\n",
    "\n",
    "\n",
    "* Importing 'forecast' package which is very useful to model time series data\n",
    "* As well as lattice package to use xyplot() function which is a simple function to plot time series in a neat way"
   ]
  },
  {
   "cell_type": "code",
   "execution_count": 1,
   "metadata": {},
   "outputs": [
    {
     "name": "stderr",
     "output_type": "stream",
     "text": [
      "Warning message:\n",
      "\"package 'forecast' was built under R version 3.4.4\""
     ]
    },
    {
     "data": {
      "text/html": [
       "<ol class=list-inline>\n",
       "\t<li>'test.csv'</li>\n",
       "\t<li>'train.csv'</li>\n",
       "</ol>\n"
      ],
      "text/latex": [
       "\\begin{enumerate*}\n",
       "\\item 'test.csv'\n",
       "\\item 'train.csv'\n",
       "\\end{enumerate*}\n"
      ],
      "text/markdown": [
       "1. 'test.csv'\n",
       "2. 'train.csv'\n",
       "\n",
       "\n"
      ],
      "text/plain": [
       "[1] \"test.csv\"  \"train.csv\""
      ]
     },
     "metadata": {},
     "output_type": "display_data"
    }
   ],
   "source": [
    "library(forecast)\n",
    "library(lattice)\n",
    "list.files(path = \"data/\")"
   ]
  },
  {
   "cell_type": "code",
   "execution_count": 2,
   "metadata": {},
   "outputs": [
    {
     "data": {
      "text/html": [
       "<table>\n",
       "<thead><tr><th scope=col>Date</th><th scope=col>Open</th><th scope=col>High</th><th scope=col>Low</th><th scope=col>Close</th><th scope=col>Volume</th><th scope=col>Market.Cap</th></tr></thead>\n",
       "<tbody>\n",
       "\t<tr><td>Jul 31, 2017  </td><td>2763.24       </td><td>2889.62       </td><td>2720.61       </td><td>2875.34       </td><td>860,575,000   </td><td>45,535,800,000</td></tr>\n",
       "\t<tr><td>Jul 30, 2017  </td><td>2724.39       </td><td>2758.53       </td><td>2644.85       </td><td>2757.18       </td><td>705,943,000   </td><td>44,890,700,000</td></tr>\n",
       "\t<tr><td>Jul 29, 2017  </td><td>2807.02       </td><td>2808.76       </td><td>2692.80       </td><td>2726.45       </td><td>803,746,000   </td><td>46,246,700,000</td></tr>\n",
       "\t<tr><td>Jul 28, 2017  </td><td>2679.73       </td><td>2897.45       </td><td>2679.73       </td><td>2809.01       </td><td>1,380,100,000 </td><td>44,144,400,000</td></tr>\n",
       "\t<tr><td>Jul 27, 2017  </td><td>2538.71       </td><td>2693.32       </td><td>2529.34       </td><td>2671.78       </td><td>789,104,000   </td><td>41,816,500,000</td></tr>\n",
       "\t<tr><td>Jul 26, 2017  </td><td>2577.77       </td><td>2610.76       </td><td>2450.80       </td><td>2529.45       </td><td>937,404,000   </td><td>42,455,000,000</td></tr>\n",
       "</tbody>\n",
       "</table>\n"
      ],
      "text/latex": [
       "\\begin{tabular}{r|lllllll}\n",
       " Date & Open & High & Low & Close & Volume & Market.Cap\\\\\n",
       "\\hline\n",
       "\t Jul 31, 2017   & 2763.24        & 2889.62        & 2720.61        & 2875.34        & 860,575,000    & 45,535,800,000\\\\\n",
       "\t Jul 30, 2017   & 2724.39        & 2758.53        & 2644.85        & 2757.18        & 705,943,000    & 44,890,700,000\\\\\n",
       "\t Jul 29, 2017   & 2807.02        & 2808.76        & 2692.80        & 2726.45        & 803,746,000    & 46,246,700,000\\\\\n",
       "\t Jul 28, 2017   & 2679.73        & 2897.45        & 2679.73        & 2809.01        & 1,380,100,000  & 44,144,400,000\\\\\n",
       "\t Jul 27, 2017   & 2538.71        & 2693.32        & 2529.34        & 2671.78        & 789,104,000    & 41,816,500,000\\\\\n",
       "\t Jul 26, 2017   & 2577.77        & 2610.76        & 2450.80        & 2529.45        & 937,404,000    & 42,455,000,000\\\\\n",
       "\\end{tabular}\n"
      ],
      "text/markdown": [
       "\n",
       "Date | Open | High | Low | Close | Volume | Market.Cap | \n",
       "|---|---|---|---|---|---|\n",
       "| Jul 31, 2017   | 2763.24        | 2889.62        | 2720.61        | 2875.34        | 860,575,000    | 45,535,800,000 | \n",
       "| Jul 30, 2017   | 2724.39        | 2758.53        | 2644.85        | 2757.18        | 705,943,000    | 44,890,700,000 | \n",
       "| Jul 29, 2017   | 2807.02        | 2808.76        | 2692.80        | 2726.45        | 803,746,000    | 46,246,700,000 | \n",
       "| Jul 28, 2017   | 2679.73        | 2897.45        | 2679.73        | 2809.01        | 1,380,100,000  | 44,144,400,000 | \n",
       "| Jul 27, 2017   | 2538.71        | 2693.32        | 2529.34        | 2671.78        | 789,104,000    | 41,816,500,000 | \n",
       "| Jul 26, 2017   | 2577.77        | 2610.76        | 2450.80        | 2529.45        | 937,404,000    | 42,455,000,000 | \n",
       "\n",
       "\n"
      ],
      "text/plain": [
       "  Date         Open    High    Low     Close   Volume        Market.Cap    \n",
       "1 Jul 31, 2017 2763.24 2889.62 2720.61 2875.34 860,575,000   45,535,800,000\n",
       "2 Jul 30, 2017 2724.39 2758.53 2644.85 2757.18 705,943,000   44,890,700,000\n",
       "3 Jul 29, 2017 2807.02 2808.76 2692.80 2726.45 803,746,000   46,246,700,000\n",
       "4 Jul 28, 2017 2679.73 2897.45 2679.73 2809.01 1,380,100,000 44,144,400,000\n",
       "5 Jul 27, 2017 2538.71 2693.32 2529.34 2671.78 789,104,000   41,816,500,000\n",
       "6 Jul 26, 2017 2577.77 2610.76 2450.80 2529.45 937,404,000   42,455,000,000"
      ]
     },
     "metadata": {},
     "output_type": "display_data"
    }
   ],
   "source": [
    "train = read.csv(\"data/train.csv\", header=T)\n",
    "test = read.csv(\"data/test.csv\", header=T)\n",
    "\n",
    "# glimpse of top few rows of train data\n",
    "\n",
    "head(train)"
   ]
  },
  {
   "cell_type": "markdown",
   "metadata": {},
   "source": [
    "* We will predict the daily Closing value time series for future periods.\n",
    "* The future data has for validation purposes in in the test data frame"
   ]
  },
  {
   "cell_type": "code",
   "execution_count": 3,
   "metadata": {},
   "outputs": [
    {
     "data": {
      "text/html": [
       "<table>\n",
       "<thead><tr><th scope=col>Date</th><th scope=col>Open</th><th scope=col>High</th><th scope=col>Low</th><th scope=col>Close</th><th scope=col>Volume</th><th scope=col>Market.Cap</th></tr></thead>\n",
       "<tbody>\n",
       "\t<tr><td>Aug 07, 2017  </td><td>3212.78       </td><td>3397.68       </td><td>3180.89       </td><td>3378.94       </td><td>1,482,280,000 </td><td>52,987,300,000</td></tr>\n",
       "\t<tr><td>Aug 06, 2017  </td><td>3257.61       </td><td>3293.29       </td><td>3155.60       </td><td>3213.94       </td><td>1,105,030,000 </td><td>53,720,900,000</td></tr>\n",
       "\t<tr><td>Aug 05, 2017  </td><td>2897.63       </td><td>3290.01       </td><td>2874.83       </td><td>3252.91       </td><td>1,945,700,000 </td><td>47,778,200,000</td></tr>\n",
       "\t<tr><td>Aug 04, 2017  </td><td>2806.93       </td><td>2899.33       </td><td>2743.72       </td><td>2895.89       </td><td>1,002,120,000 </td><td>46,276,200,000</td></tr>\n",
       "\t<tr><td>Aug 03, 2017  </td><td>2709.56       </td><td>2813.31       </td><td>2685.14       </td><td>2804.73       </td><td>804,797,000   </td><td>44,666,400,000</td></tr>\n",
       "\t<tr><td>Aug 02, 2017  </td><td>2727.13       </td><td>2762.53       </td><td>2668.59       </td><td>2710.67       </td><td>1,094,950,000 </td><td>44,950,800,000</td></tr>\n",
       "</tbody>\n",
       "</table>\n"
      ],
      "text/latex": [
       "\\begin{tabular}{r|lllllll}\n",
       " Date & Open & High & Low & Close & Volume & Market.Cap\\\\\n",
       "\\hline\n",
       "\t Aug 07, 2017   & 3212.78        & 3397.68        & 3180.89        & 3378.94        & 1,482,280,000  & 52,987,300,000\\\\\n",
       "\t Aug 06, 2017   & 3257.61        & 3293.29        & 3155.60        & 3213.94        & 1,105,030,000  & 53,720,900,000\\\\\n",
       "\t Aug 05, 2017   & 2897.63        & 3290.01        & 2874.83        & 3252.91        & 1,945,700,000  & 47,778,200,000\\\\\n",
       "\t Aug 04, 2017   & 2806.93        & 2899.33        & 2743.72        & 2895.89        & 1,002,120,000  & 46,276,200,000\\\\\n",
       "\t Aug 03, 2017   & 2709.56        & 2813.31        & 2685.14        & 2804.73        & 804,797,000    & 44,666,400,000\\\\\n",
       "\t Aug 02, 2017   & 2727.13        & 2762.53        & 2668.59        & 2710.67        & 1,094,950,000  & 44,950,800,000\\\\\n",
       "\\end{tabular}\n"
      ],
      "text/markdown": [
       "\n",
       "Date | Open | High | Low | Close | Volume | Market.Cap | \n",
       "|---|---|---|---|---|---|\n",
       "| Aug 07, 2017   | 3212.78        | 3397.68        | 3180.89        | 3378.94        | 1,482,280,000  | 52,987,300,000 | \n",
       "| Aug 06, 2017   | 3257.61        | 3293.29        | 3155.60        | 3213.94        | 1,105,030,000  | 53,720,900,000 | \n",
       "| Aug 05, 2017   | 2897.63        | 3290.01        | 2874.83        | 3252.91        | 1,945,700,000  | 47,778,200,000 | \n",
       "| Aug 04, 2017   | 2806.93        | 2899.33        | 2743.72        | 2895.89        | 1,002,120,000  | 46,276,200,000 | \n",
       "| Aug 03, 2017   | 2709.56        | 2813.31        | 2685.14        | 2804.73        | 804,797,000    | 44,666,400,000 | \n",
       "| Aug 02, 2017   | 2727.13        | 2762.53        | 2668.59        | 2710.67        | 1,094,950,000  | 44,950,800,000 | \n",
       "\n",
       "\n"
      ],
      "text/plain": [
       "  Date         Open    High    Low     Close   Volume        Market.Cap    \n",
       "1 Aug 07, 2017 3212.78 3397.68 3180.89 3378.94 1,482,280,000 52,987,300,000\n",
       "2 Aug 06, 2017 3257.61 3293.29 3155.60 3213.94 1,105,030,000 53,720,900,000\n",
       "3 Aug 05, 2017 2897.63 3290.01 2874.83 3252.91 1,945,700,000 47,778,200,000\n",
       "4 Aug 04, 2017 2806.93 2899.33 2743.72 2895.89 1,002,120,000 46,276,200,000\n",
       "5 Aug 03, 2017 2709.56 2813.31 2685.14 2804.73 804,797,000   44,666,400,000\n",
       "6 Aug 02, 2017 2727.13 2762.53 2668.59 2710.67 1,094,950,000 44,950,800,000"
      ]
     },
     "metadata": {},
     "output_type": "display_data"
    }
   ],
   "source": [
    "head(test)"
   ]
  },
  {
   "cell_type": "markdown",
   "metadata": {},
   "source": [
    "* Creating **close_tr_df** as a data frame having dates and closing values in USD for **TRAIN** data\n",
    "* Creating **close_val_df** as a data frame having dates and closing values in USD for **TEST** data\n",
    "\n",
    "\n",
    "\n",
    "* We will also use the **mdy()** function from lubridate to convert Date column from factor to a POSIXCt object"
   ]
  },
  {
   "cell_type": "code",
   "execution_count": 4,
   "metadata": {},
   "outputs": [
    {
     "name": "stderr",
     "output_type": "stream",
     "text": [
      "Warning message:\n",
      "\"package 'dplyr' was built under R version 3.4.3\"Warning message:\n",
      "\"package 'lubridate' was built under R version 3.4.3\"Warning message:\n",
      "\"package 'bindrcpp' was built under R version 3.4.4\""
     ]
    },
    {
     "data": {
      "text/html": [
       "<table>\n",
       "<thead><tr><th></th><th scope=col>Date</th><th scope=col>Close</th></tr></thead>\n",
       "<tbody>\n",
       "\t<tr><th scope=row>1551</th><td>2017-07-26</td><td>2529.45   </td></tr>\n",
       "\t<tr><th scope=row>1552</th><td>2017-07-27</td><td>2671.78   </td></tr>\n",
       "\t<tr><th scope=row>1553</th><td>2017-07-28</td><td>2809.01   </td></tr>\n",
       "\t<tr><th scope=row>1554</th><td>2017-07-29</td><td>2726.45   </td></tr>\n",
       "\t<tr><th scope=row>1555</th><td>2017-07-30</td><td>2757.18   </td></tr>\n",
       "\t<tr><th scope=row>1556</th><td>2017-07-31</td><td>2875.34   </td></tr>\n",
       "</tbody>\n",
       "</table>\n"
      ],
      "text/latex": [
       "\\begin{tabular}{r|ll}\n",
       "  & Date & Close\\\\\n",
       "\\hline\n",
       "\t1551 & 2017-07-26 & 2529.45   \\\\\n",
       "\t1552 & 2017-07-27 & 2671.78   \\\\\n",
       "\t1553 & 2017-07-28 & 2809.01   \\\\\n",
       "\t1554 & 2017-07-29 & 2726.45   \\\\\n",
       "\t1555 & 2017-07-30 & 2757.18   \\\\\n",
       "\t1556 & 2017-07-31 & 2875.34   \\\\\n",
       "\\end{tabular}\n"
      ],
      "text/markdown": [
       "\n",
       "| <!--/--> | Date | Close | \n",
       "|---|---|---|---|---|---|\n",
       "| 1551 | 2017-07-26 | 2529.45    | \n",
       "| 1552 | 2017-07-27 | 2671.78    | \n",
       "| 1553 | 2017-07-28 | 2809.01    | \n",
       "| 1554 | 2017-07-29 | 2726.45    | \n",
       "| 1555 | 2017-07-30 | 2757.18    | \n",
       "| 1556 | 2017-07-31 | 2875.34    | \n",
       "\n",
       "\n"
      ],
      "text/plain": [
       "     Date       Close  \n",
       "1551 2017-07-26 2529.45\n",
       "1552 2017-07-27 2671.78\n",
       "1553 2017-07-28 2809.01\n",
       "1554 2017-07-29 2726.45\n",
       "1555 2017-07-30 2757.18\n",
       "1556 2017-07-31 2875.34"
      ]
     },
     "metadata": {},
     "output_type": "display_data"
    },
    {
     "data": {
      "text/html": [
       "<table>\n",
       "<thead><tr><th scope=col>Date</th><th scope=col>Close</th></tr></thead>\n",
       "<tbody>\n",
       "\t<tr><td>2017-08-01</td><td>2718.26   </td></tr>\n",
       "\t<tr><td>2017-08-02</td><td>2710.67   </td></tr>\n",
       "\t<tr><td>2017-08-03</td><td>2804.73   </td></tr>\n",
       "\t<tr><td>2017-08-04</td><td>2895.89   </td></tr>\n",
       "\t<tr><td>2017-08-05</td><td>3252.91   </td></tr>\n",
       "\t<tr><td>2017-08-06</td><td>3213.94   </td></tr>\n",
       "</tbody>\n",
       "</table>\n"
      ],
      "text/latex": [
       "\\begin{tabular}{r|ll}\n",
       " Date & Close\\\\\n",
       "\\hline\n",
       "\t 2017-08-01 & 2718.26   \\\\\n",
       "\t 2017-08-02 & 2710.67   \\\\\n",
       "\t 2017-08-03 & 2804.73   \\\\\n",
       "\t 2017-08-04 & 2895.89   \\\\\n",
       "\t 2017-08-05 & 3252.91   \\\\\n",
       "\t 2017-08-06 & 3213.94   \\\\\n",
       "\\end{tabular}\n"
      ],
      "text/markdown": [
       "\n",
       "Date | Close | \n",
       "|---|---|---|---|---|---|\n",
       "| 2017-08-01 | 2718.26    | \n",
       "| 2017-08-02 | 2710.67    | \n",
       "| 2017-08-03 | 2804.73    | \n",
       "| 2017-08-04 | 2895.89    | \n",
       "| 2017-08-05 | 3252.91    | \n",
       "| 2017-08-06 | 3213.94    | \n",
       "\n",
       "\n"
      ],
      "text/plain": [
       "  Date       Close  \n",
       "1 2017-08-01 2718.26\n",
       "2 2017-08-02 2710.67\n",
       "3 2017-08-03 2804.73\n",
       "4 2017-08-04 2895.89\n",
       "5 2017-08-05 3252.91\n",
       "6 2017-08-06 3213.94"
      ]
     },
     "metadata": {},
     "output_type": "display_data"
    }
   ],
   "source": [
    "suppressPackageStartupMessages(library(ggplot2))\n",
    "suppressPackageStartupMessages(library(dplyr))\n",
    "suppressPackageStartupMessages(library(lubridate))\n",
    "\n",
    "train$Date <- mdy(train$Date)\n",
    "test$Date <- mdy(test$Date)\n",
    "\n",
    "close_tr_df <- train[,c(\"Date\", \"Close\")] %>% arrange(Date)\n",
    "close_val_df <- test[,c(\"Date\", \"Close\")] %>% arrange(Date)\n",
    "tail(close_tr_df)\n",
    "head(close_val_df)"
   ]
  },
  {
   "cell_type": "markdown",
   "metadata": {},
   "source": [
    "* We can see that train data ends at July 31st 2017 while test data starts at August 1st 2017\n",
    "* Lets see if we have any missing values"
   ]
  },
  {
   "cell_type": "code",
   "execution_count": 5,
   "metadata": {},
   "outputs": [
    {
     "data": {
      "text/plain": [
       "\n",
       "FALSE \n",
       " 3112 "
      ]
     },
     "metadata": {},
     "output_type": "display_data"
    },
    {
     "data": {
      "text/plain": [
       "\n",
       "FALSE \n",
       "   14 "
      ]
     },
     "metadata": {},
     "output_type": "display_data"
    }
   ],
   "source": [
    "table(is.na(close_tr_df))\n",
    "table(is.na(close_val_df))"
   ]
  },
  {
   "cell_type": "markdown",
   "metadata": {},
   "source": [
    "* No missing values\n",
    "\n",
    "\n",
    "\n",
    "* Now using **ts() function and its START= and END=** arguments to create a **ts** object for TRAIN data and VALIDATION (TEST) DATA\n",
    "* **ts** object is a time series object. We can do many flexible time series operations directly on this object\n",
    "* We also plot the created ts object to see the pattern"
   ]
  },
  {
   "cell_type": "code",
   "execution_count": 7,
   "metadata": {},
   "outputs": [
    {
     "data": {},
     "metadata": {},
     "output_type": "display_data"
    },
    {
     "data": {
      "image/png": "[encoded data removed]",
      "text/plain": [
       "plot without title"
      ]
     },
     "metadata": {},
     "output_type": "display_data"
    }
   ],
   "source": [
    "library(repr)\n",
    "close_tr_ts <- ts(close_tr_df$Close,\n",
    "                  start = c(as.numeric(format(close_tr_df$Date[1], \"%Y\")), as.numeric(format(close_tr_df$Date[1], \"%j\"))),\n",
    "                  end = c(as.numeric(format(close_tr_df$Date[nrow(close_tr_df)], \"%Y\")), as.numeric(format(close_tr_df$Date[nrow(close_tr_df)], \"%j\"))),\n",
    "                  frequency = 365)\n",
    "close_val_ts <- ts(close_val_df$Close,\n",
    "                  start = c(as.numeric(format(close_val_df$Date[1], \"%Y\")), as.numeric(format(close_val_df$Date[1], \"%j\"))),\n",
    "                  end = c(as.numeric(format(close_val_df$Date[nrow(close_val_df)], \"%Y\")), as.numeric(format(close_val_df$Date[nrow(close_val_df)], \"%j\"))),\n",
    "                  frequency = 365)\n",
    "options(repr.plot.width=10 , repr.plot.height=4)\n",
    "xyplot(close_tr_ts)"
   ]
  },
  {
   "cell_type": "markdown",
   "metadata": {},
   "source": [
    "***\n",
    "* There is a trend starting slowly from late 2015, increasing slowly till mid 2017 and very rapidly thereafter.\n",
    "* Seasonality seems to be absent\n",
    "* Non-stationary time series.\n",
    "\n",
    "\n",
    "* **Forecasting approach from initial observations:**\n",
    "    1. First we will start off by trying extremely basic models like naive forecast and drift.\n",
    "    2. Then we will try out various exponential smoothing models starting with simple exponential smoothing and going on to ets with trend.\n",
    "    3. We will also try ARIMA at the end.\n"
   ]
  },
  {
   "cell_type": "code",
   "execution_count": 8,
   "metadata": {},
   "outputs": [
    {
     "name": "stdout",
     "output_type": "stream",
     "text": [
      "1 step Naive model"
     ]
    },
    {
     "data": {
      "text/html": [
       "<table>\n",
       "<thead><tr><th></th><th scope=col>ME</th><th scope=col>RMSE</th><th scope=col>MAE</th><th scope=col>MPE</th><th scope=col>MAPE</th><th scope=col>MASE</th><th scope=col>ACF1</th><th scope=col>Theil's U</th></tr></thead>\n",
       "<tbody>\n",
       "\t<tr><th scope=row>Training set</th><td>  1.687883 </td><td> 37.1248   </td><td> 16.54763  </td><td>0.1035267  </td><td>2.589161   </td><td>0.03643976 </td><td>-0.02139786</td><td>      NA   </td></tr>\n",
       "\t<tr><th scope=row>Test set</th><td>239.297143 </td><td>351.7594   </td><td>263.70571  </td><td>7.3128706  </td><td>8.212188   </td><td>0.58071007 </td><td> 0.57328202</td><td>2.102406   </td></tr>\n",
       "</tbody>\n",
       "</table>\n"
      ],
      "text/latex": [
       "\\begin{tabular}{r|llllllll}\n",
       "  & ME & RMSE & MAE & MPE & MAPE & MASE & ACF1 & Theil's U\\\\\n",
       "\\hline\n",
       "\tTraining set &   1.687883  &  37.1248    &  16.54763   & 0.1035267   & 2.589161    & 0.03643976  & -0.02139786 &       NA   \\\\\n",
       "\tTest set & 239.297143  & 351.7594    & 263.70571   & 7.3128706   & 8.212188    & 0.58071007  &  0.57328202 & 2.102406   \\\\\n",
       "\\end{tabular}\n"
      ],
      "text/markdown": [
       "\n",
       "| <!--/--> | ME | RMSE | MAE | MPE | MAPE | MASE | ACF1 | Theil's U | \n",
       "|---|---|\n",
       "| Training set |   1.687883  |  37.1248    |  16.54763   | 0.1035267   | 2.589161    | 0.03643976  | -0.02139786 |       NA    | \n",
       "| Test set | 239.297143  | 351.7594    | 263.70571   | 7.3128706   | 8.212188    | 0.58071007  |  0.57328202 | 2.102406    | \n",
       "\n",
       "\n"
      ],
      "text/plain": [
       "             ME         RMSE     MAE       MPE       MAPE     MASE      \n",
       "Training set   1.687883  37.1248  16.54763 0.1035267 2.589161 0.03643976\n",
       "Test set     239.297143 351.7594 263.70571 7.3128706 8.212188 0.58071007\n",
       "             ACF1        Theil's U\n",
       "Training set -0.02139786       NA \n",
       "Test set      0.57328202 2.102406 "
      ]
     },
     "metadata": {},
     "output_type": "display_data"
    },
    {
     "name": "stdout",
     "output_type": "stream",
     "text": [
      "Drift model i.e. First observation - Last observation"
     ]
    },
    {
     "data": {
      "text/html": [
       "<table>\n",
       "<thead><tr><th></th><th scope=col>ME</th><th scope=col>RMSE</th><th scope=col>MAE</th><th scope=col>MPE</th><th scope=col>MAPE</th><th scope=col>MASE</th><th scope=col>ACF1</th><th scope=col>Theil's U</th></tr></thead>\n",
       "<tbody>\n",
       "\t<tr><th scope=row>Training set</th><td>8.381870e-12</td><td> 37.08641   </td><td> 16.5874    </td><td>-0.4063651  </td><td>2.630292    </td><td>0.03652735  </td><td>-0.02139786 </td><td>      NA    </td></tr>\n",
       "\t<tr><th scope=row>Test set</th><td>2.325456e+02</td><td>344.82320   </td><td>258.4009    </td><td> 7.0950805  </td><td>8.047721    </td><td>0.56902835  </td><td> 0.57220176 </td><td>2.060728    </td></tr>\n",
       "</tbody>\n",
       "</table>\n"
      ],
      "text/latex": [
       "\\begin{tabular}{r|llllllll}\n",
       "  & ME & RMSE & MAE & MPE & MAPE & MASE & ACF1 & Theil's U\\\\\n",
       "\\hline\n",
       "\tTraining set & 8.381870e-12 &  37.08641    &  16.5874     & -0.4063651   & 2.630292     & 0.03652735   & -0.02139786  &       NA    \\\\\n",
       "\tTest set & 2.325456e+02 & 344.82320    & 258.4009     &  7.0950805   & 8.047721     & 0.56902835   &  0.57220176  & 2.060728    \\\\\n",
       "\\end{tabular}\n"
      ],
      "text/markdown": [
       "\n",
       "| <!--/--> | ME | RMSE | MAE | MPE | MAPE | MASE | ACF1 | Theil's U | \n",
       "|---|---|\n",
       "| Training set | 8.381870e-12 |  37.08641    |  16.5874     | -0.4063651   | 2.630292     | 0.03652735   | -0.02139786  |       NA     | \n",
       "| Test set | 2.325456e+02 | 344.82320    | 258.4009     |  7.0950805   | 8.047721     | 0.56902835   |  0.57220176  | 2.060728     | \n",
       "\n",
       "\n"
      ],
      "text/plain": [
       "             ME           RMSE      MAE      MPE        MAPE     MASE      \n",
       "Training set 8.381870e-12  37.08641  16.5874 -0.4063651 2.630292 0.03652735\n",
       "Test set     2.325456e+02 344.82320 258.4009  7.0950805 8.047721 0.56902835\n",
       "             ACF1        Theil's U\n",
       "Training set -0.02139786       NA \n",
       "Test set      0.57220176 2.060728 "
      ]
     },
     "metadata": {},
     "output_type": "display_data"
    }
   ],
   "source": [
    "naive_close <- naive(close_tr_ts, h = nrow(close_val_df))\n",
    "drift_close <- rwf(close_tr_ts, h = nrow(close_val_df), drift = T)\n",
    "\n",
    "cat(\"1 step Naive model\")\n",
    "accuracy(naive_close, close_val_ts)\n",
    "cat(\"Drift model i.e. First observation - Last observation\")\n",
    "accuracy(drift_close, close_val_ts)"
   ]
  },
  {
   "cell_type": "markdown",
   "metadata": {},
   "source": [
    "* Both the models are yielding almost similar results.\n",
    "* We that see that we are heavily overfitting the train data for both models. This is because the right at the end of the train time series, there is a severe trend and the whole range of the time series has changed.\n",
    "* This provides more evidence that exponential smoothing models might provide a reasonable estimate as we can weight the recent observations more in that.\n",
    "* Let us try **Exponential Smoothing models**\n",
    "<a id=\"optparam1\"></a>\n",
    "\n",
    "\n",
    "\n",
    "## 1. Simple Exponential Smoothing\n"
   ]
  },
  {
   "cell_type": "code",
   "execution_count": 9,
   "metadata": {},
   "outputs": [
    {
     "name": "stdout",
     "output_type": "stream",
     "text": [
      "\n",
      "Forecast method: Simple exponential smoothing\n",
      "\n",
      "Model Information:\n",
      "Simple exponential smoothing \n",
      "\n",
      "Call:\n",
      " ses(y = close_tr_ts) \n",
      "\n",
      "  Smoothing parameters:\n",
      "    alpha = 0.9799 \n",
      "\n",
      "  Initial states:\n",
      "    l = 134.3295 \n",
      "\n",
      "  sigma:  37.1296\n",
      "\n",
      "     AIC     AICc      BIC \n",
      "22672.88 22672.89 22688.93 \n",
      "\n",
      "Error measures:\n",
      "                   ME     RMSE      MAE       MPE     MAPE       MASE\n",
      "Training set 1.720947 37.10568 16.53901 0.1054994 2.586803 0.03642078\n",
      "                     ACF1\n",
      "Training set -0.001713561\n",
      "\n",
      "Forecasts:\n",
      "          Point Forecast    Lo 80    Hi 80    Lo 95    Hi 95\n",
      "2017.5808       2756.594 2709.011 2804.178 2683.822 2829.367\n",
      "2017.5836       2756.594 2689.974 2823.214 2654.708 2858.481\n",
      "2017.5863       2756.594 2675.278 2837.910 2632.232 2880.956\n",
      "2017.5890       2756.594 2662.859 2850.330 2613.238 2899.950\n",
      "2017.5918       2756.594 2651.903 2861.286 2596.482 2916.707\n",
      "2017.5945       2756.594 2641.989 2871.200 2581.320 2931.868\n",
      "2017.5973       2756.594 2632.867 2880.322 2567.370 2945.819\n",
      "2017.6000       2756.594 2624.373 2888.816 2554.379 2958.810\n",
      "2017.6027       2756.594 2616.392 2896.796 2542.174 2971.015\n",
      "2017.6055       2756.594 2608.842 2904.346 2530.627 2982.561\n"
     ]
    }
   ],
   "source": [
    "close_ses <- ses(close_tr_ts)\n",
    "summary(close_ses)"
   ]
  },
  {
   "cell_type": "markdown",
   "metadata": {},
   "source": [
    "* **ses()** function minimizes the SSE to estimate the right value of ALPHA and INITIAL STATE \"L0\"\n",
    "* Looking at the summary, the ideal values for ALPHA and L0 are selected as 0.9798 and 134.2529 respectively\n",
    "* Lets look at our performance on test data"
   ]
  },
  {
   "cell_type": "code",
   "execution_count": 10,
   "metadata": {},
   "outputs": [
    {
     "data": {
      "text/html": [
       "<table>\n",
       "<thead><tr><th></th><th scope=col>ME</th><th scope=col>RMSE</th><th scope=col>MAE</th><th scope=col>MPE</th><th scope=col>MAPE</th><th scope=col>ACF1</th><th scope=col>Theil's U</th></tr></thead>\n",
       "<tbody>\n",
       "\t<tr><th scope=row>Test set</th><td>239.8828</td><td>352.1581</td><td>263.9567</td><td>7.332558</td><td>8.219547</td><td>0.573282</td><td>2.104888</td></tr>\n",
       "</tbody>\n",
       "</table>\n"
      ],
      "text/latex": [
       "\\begin{tabular}{r|lllllll}\n",
       "  & ME & RMSE & MAE & MPE & MAPE & ACF1 & Theil's U\\\\\n",
       "\\hline\n",
       "\tTest set & 239.8828 & 352.1581 & 263.9567 & 7.332558 & 8.219547 & 0.573282 & 2.104888\\\\\n",
       "\\end{tabular}\n"
      ],
      "text/markdown": [
       "\n",
       "| <!--/--> | ME | RMSE | MAE | MPE | MAPE | ACF1 | Theil's U | \n",
       "|---|\n",
       "| Test set | 239.8828 | 352.1581 | 263.9567 | 7.332558 | 8.219547 | 0.573282 | 2.104888 | \n",
       "\n",
       "\n"
      ],
      "text/plain": [
       "         ME       RMSE     MAE      MPE      MAPE     ACF1     Theil's U\n",
       "Test set 239.8828 352.1581 263.9567 7.332558 8.219547 0.573282 2.104888 "
      ]
     },
     "metadata": {},
     "output_type": "display_data"
    }
   ],
   "source": [
    "close_ses_preds = data.frame(predict(close_ses, h= nrow(close_val_df)))\n",
    "accuracy(close_ses_preds$Point.Forecast, close_val_ts)"
   ]
  },
  {
   "cell_type": "markdown",
   "metadata": {},
   "source": [
    "* The model is still not performing efficiently. RMSE for test set is still $ 352 which was nearly the same as the one obtained by Naive model\n",
    "* Factors like optimal **Alpha being 0.97** & **Naive model performing equally well as exponential smoothing** tends to suggest that the **observations in the recent past are more important when predicting Bitcoin Closing values**\n",
    "\n",
    "* Note that we still haven't accomodated a model component for trend.\n",
    "* We can definitely see that trend starts from late 2015 and is pretty much persistent throughout until the end\n",
    "* So let us try to accomodate this trend\n",
    "<a id=\"optparam2\"></a>\n",
    "\n",
    "## 2. Holt's linear trend method"
   ]
  },
  {
   "cell_type": "code",
   "execution_count": 11,
   "metadata": {},
   "outputs": [
    {
     "data": {},
     "metadata": {},
     "output_type": "display_data"
    },
    {
     "data": {
      "image/png": "[encoded data removed]",
      "text/plain": [
       "plot without title"
      ]
     },
     "metadata": {},
     "output_type": "display_data"
    }
   ],
   "source": [
    "library(repr)\n",
    "options(repr.plot.width =10, repr.plot.height=4)\n",
    "\n",
    "autoplot(close_ses) +\n",
    "  autolayer(fitted(close_ses), series=\"Fitted\") +\n",
    "  ylab(\"Bitcoin Daily Closing in $\") + xlab(\"Year\")"
   ]
  },
  {
   "cell_type": "code",
   "execution_count": 15,
   "metadata": {},
   "outputs": [
    {
     "name": "stdout",
     "output_type": "stream",
     "text": [
      "\n",
      "Forecast method: Holt's method\n",
      "\n",
      "Model Information:\n",
      "Holt's method \n",
      "\n",
      "Call:\n",
      " holt(y = close_tr_ts) \n",
      "\n",
      "  Smoothing parameters:\n",
      "    alpha = 0.9735 \n",
      "    beta  = 0.0035 \n",
      "\n",
      "  Initial states:\n",
      "    l = 138.194 \n",
      "    b = 0.7433 \n",
      "\n",
      "  sigma:  37.1073\n",
      "\n",
      "     AIC     AICc      BIC \n",
      "22673.01 22673.05 22699.75 \n",
      "\n",
      "Error measures:\n",
      "                   ME     RMSE     MAE          MPE     MAPE       MASE\n",
      "Training set 0.900354 37.05951 16.4525 -0.008326569 2.583958 0.03623029\n",
      "                     ACF1\n",
      "Training set 8.804001e-05\n",
      "\n",
      "Forecasts:\n",
      "          Point Forecast    Lo 80    Hi 80    Lo 95    Hi 95\n",
      "2017.5808       2762.285 2714.730 2809.840 2689.556 2835.014\n",
      "2017.5836       2767.996 2701.510 2834.482 2666.315 2869.677\n",
      "2017.5863       2773.707 2692.497 2854.916 2649.508 2897.906\n",
      "2017.5890       2779.417 2685.687 2873.147 2636.070 2922.765\n",
      "2017.5918       2785.128 2680.288 2889.968 2624.789 2945.468\n",
      "2017.5945       2790.839 2675.888 2905.789 2615.037 2966.640\n",
      "2017.5973       2796.549 2672.245 2920.854 2606.442 2986.656\n",
      "2017.6000       2802.260 2669.198 2935.322 2598.759 3005.761\n",
      "2017.6027       2807.971 2666.636 2949.306 2591.817 3024.124\n",
      "2017.6055       2813.681 2664.478 2962.885 2585.494 3041.869\n"
     ]
    }
   ],
   "source": [
    "close_holt_lt <- holt(close_tr_ts)\n",
    "summary(close_holt_lt)"
   ]
  },
  {
   "cell_type": "code",
   "execution_count": 17,
   "metadata": {},
   "outputs": [
    {
     "data": {
      "text/html": [
       "<table>\n",
       "<thead><tr><th></th><th scope=col>ME</th><th scope=col>RMSE</th><th scope=col>MAE</th><th scope=col>MPE</th><th scope=col>MAPE</th><th scope=col>ACF1</th><th scope=col>Theil's U</th></tr></thead>\n",
       "<tbody>\n",
       "\t<tr><th scope=row>Test set</th><td>217.0598 </td><td>328.8001 </td><td>246.0173 </td><td>6.596363 </td><td>7.663347 </td><td>0.5693948</td><td>1.964626 </td></tr>\n",
       "</tbody>\n",
       "</table>\n"
      ],
      "text/latex": [
       "\\begin{tabular}{r|lllllll}\n",
       "  & ME & RMSE & MAE & MPE & MAPE & ACF1 & Theil's U\\\\\n",
       "\\hline\n",
       "\tTest set & 217.0598  & 328.8001  & 246.0173  & 6.596363  & 7.663347  & 0.5693948 & 1.964626 \\\\\n",
       "\\end{tabular}\n"
      ],
      "text/markdown": [
       "\n",
       "| <!--/--> | ME | RMSE | MAE | MPE | MAPE | ACF1 | Theil's U | \n",
       "|---|\n",
       "| Test set | 217.0598  | 328.8001  | 246.0173  | 6.596363  | 7.663347  | 0.5693948 | 1.964626  | \n",
       "\n",
       "\n"
      ],
      "text/plain": [
       "         ME       RMSE     MAE      MPE      MAPE     ACF1      Theil's U\n",
       "Test set 217.0598 328.8001 246.0173 6.596363 7.663347 0.5693948 1.964626 "
      ]
     },
     "metadata": {},
     "output_type": "display_data"
    }
   ],
   "source": [
    "close_holt_lt_preds = data.frame(predict(close_holt_lt, h= nrow(close_val_df)))\n",
    "accuracy(close_holt_lt_preds$Point.Forecast, close_val_ts)"
   ]
  },
  {
   "cell_type": "markdown",
   "metadata": {},
   "source": [
    "* RMSE has reduced by $ 30\n",
    "\n",
    "* In Holt's linear trend method, all the future forecasts are either trended up or trended down constantly.\n",
    "* This is not practical for most real-life datasets since some time or the other in the future, the trend will flatten.\n",
    "* To accomodate this, there is a method called as DAMPED LINEAR TREND\n",
    "* DAMPED LINEAR TREND method is very similar to Holt's method just with an additional dampening parameter which slowly reduces the trend of forecasts.\n",
    "* Short term forecasts are trended in this method and long-term forecasts are flattened.\n",
    "<a id=\"optparam3\"></a>\n",
    "\n",
    "## 3. Damped Trend Method"
   ]
  },
  {
   "cell_type": "code",
   "execution_count": 18,
   "metadata": {},
   "outputs": [
    {
     "data": {
      "text/plain": [
       "          Point Forecast    Lo 80    Hi 80    Lo 95    Hi 95\n",
       "2017.5808       2756.605 2708.976 2804.234 2683.763 2829.448\n",
       "2017.5836       2756.612 2689.922 2823.301 2654.619 2858.605\n",
       "2017.5863       2756.617 2675.212 2838.022 2632.119 2881.115\n",
       "2017.5890       2756.621 2662.780 2850.463 2613.103 2900.140\n",
       "2017.5918       2756.625 2651.811 2861.439 2596.326 2916.924\n",
       "2017.5945       2756.627 2641.885 2871.370 2581.145 2932.110\n",
       "2017.5973       2756.630 2632.752 2880.507 2567.175 2946.084\n",
       "2017.6000       2756.631 2624.247 2889.016 2554.167 2959.096\n",
       "2017.6027       2756.633 2616.255 2897.010 2541.944 2971.321\n",
       "2017.6055       2756.634 2608.695 2904.573 2530.381 2982.887"
      ]
     },
     "metadata": {},
     "output_type": "display_data"
    }
   ],
   "source": [
    "close_holt_damped <- holt(close_tr_ts, damped=TRUE, phi=0.8)\n",
    "close_holt_damped"
   ]
  },
  {
   "cell_type": "code",
   "execution_count": 19,
   "metadata": {},
   "outputs": [
    {
     "data": {},
     "metadata": {},
     "output_type": "display_data"
    },
    {
     "data": {
      "image/png": "[encoded data removed]",
      "text/plain": [
       "plot without title"
      ]
     },
     "metadata": {},
     "output_type": "display_data"
    }
   ],
   "source": [
    "autoplot(window(close_tr_ts, start=c(2017,100))) +\n",
    "  autolayer(close_holt_lt, series=\"Holt's method\", PI=FALSE) +\n",
    "  autolayer(close_holt_damped, series=\"Damped Holt's method\", PI=FALSE) +\n",
    "  ggtitle(\"Forecasts from Holt's method\") + xlab(\"Year\") +\n",
    "  ylab(\"Closing value of Bitcoin in USD\") +\n",
    "  guides(colour=guide_legend(title=\"Forecast\"))"
   ]
  },
  {
   "cell_type": "code",
   "execution_count": 20,
   "metadata": {},
   "outputs": [
    {
     "data": {
      "text/html": [
       "<table>\n",
       "<thead><tr><th></th><th scope=col>ME</th><th scope=col>RMSE</th><th scope=col>MAE</th><th scope=col>MPE</th><th scope=col>MAPE</th><th scope=col>ACF1</th><th scope=col>Theil's U</th></tr></thead>\n",
       "<tbody>\n",
       "\t<tr><th scope=row>Test set</th><td>239.8575 </td><td>352.1354 </td><td>263.9395 </td><td>7.331729 </td><td>8.219017 </td><td>0.5732792</td><td>2.10475  </td></tr>\n",
       "</tbody>\n",
       "</table>\n"
      ],
      "text/latex": [
       "\\begin{tabular}{r|lllllll}\n",
       "  & ME & RMSE & MAE & MPE & MAPE & ACF1 & Theil's U\\\\\n",
       "\\hline\n",
       "\tTest set & 239.8575  & 352.1354  & 263.9395  & 7.331729  & 8.219017  & 0.5732792 & 2.10475  \\\\\n",
       "\\end{tabular}\n"
      ],
      "text/markdown": [
       "\n",
       "| <!--/--> | ME | RMSE | MAE | MPE | MAPE | ACF1 | Theil's U | \n",
       "|---|\n",
       "| Test set | 239.8575  | 352.1354  | 263.9395  | 7.331729  | 8.219017  | 0.5732792 | 2.10475   | \n",
       "\n",
       "\n"
      ],
      "text/plain": [
       "         ME       RMSE     MAE      MPE      MAPE     ACF1      Theil's U\n",
       "Test set 239.8575 352.1354 263.9395 7.331729 8.219017 0.5732792 2.10475  "
      ]
     },
     "metadata": {},
     "output_type": "display_data"
    }
   ],
   "source": [
    "close_holt_damped_preds = data.frame(predict(close_holt_damped, h= nrow(close_val_df)))\n",
    "accuracy(close_holt_damped_preds$Point.Forecast, close_val_ts)"
   ]
  },
  {
   "cell_type": "markdown",
   "metadata": {},
   "source": [
    "* RMSE did not improve at all for Point.Forecast\n",
    "* Interestingly, I tried checking the accuracy with Upper 95% Confidence boundary and the RMSE reduced extensively.\n",
    "* This suggests that our model is under-estimating the trend and dampening is not a good option here.\n",
    "* Lets see if we can correct this in future models"
   ]
  },
  {
   "cell_type": "code",
   "execution_count": 21,
   "metadata": {},
   "outputs": [
    {
     "data": {
      "text/html": [
       "<table>\n",
       "<thead><tr><th></th><th scope=col>ME</th><th scope=col>RMSE</th><th scope=col>MAE</th><th scope=col>MPE</th><th scope=col>MAPE</th><th scope=col>ACF1</th><th scope=col>Theil's U</th></tr></thead>\n",
       "<tbody>\n",
       "\t<tr><th scope=row>Test set</th><td>101.5592 </td><td>244.8846 </td><td>198.6328 </td><td>2.784298 </td><td>6.332324 </td><td>0.5566559</td><td>1.45503  </td></tr>\n",
       "</tbody>\n",
       "</table>\n"
      ],
      "text/latex": [
       "\\begin{tabular}{r|lllllll}\n",
       "  & ME & RMSE & MAE & MPE & MAPE & ACF1 & Theil's U\\\\\n",
       "\\hline\n",
       "\tTest set & 101.5592  & 244.8846  & 198.6328  & 2.784298  & 6.332324  & 0.5566559 & 1.45503  \\\\\n",
       "\\end{tabular}\n"
      ],
      "text/markdown": [
       "\n",
       "| <!--/--> | ME | RMSE | MAE | MPE | MAPE | ACF1 | Theil's U | \n",
       "|---|\n",
       "| Test set | 101.5592  | 244.8846  | 198.6328  | 2.784298  | 6.332324  | 0.5566559 | 1.45503   | \n",
       "\n",
       "\n"
      ],
      "text/plain": [
       "         ME       RMSE     MAE      MPE      MAPE     ACF1      Theil's U\n",
       "Test set 101.5592 244.8846 198.6328 2.784298 6.332324 0.5566559 1.45503  "
      ]
     },
     "metadata": {},
     "output_type": "display_data"
    }
   ],
   "source": [
    "accuracy(close_holt_damped_preds$Hi.95, close_val_ts)"
   ]
  },
  {
   "cell_type": "markdown",
   "metadata": {},
   "source": [
    "<a id=\"optparam4\"></a>\n",
    "\n",
    "## 4. Taxonomy of Exponential Smoothing Methods"
   ]
  },
  {
   "cell_type": "markdown",
   "metadata": {},
   "source": [
    "* There are multiple combinations of Exponential Smoothing models available to us.\n",
    "* Models with trend, seasonal and level components with either of the components absent/present/additive/multiplicative.\n",
    "* **ets()** function takes in a 'ts' object and estimates the best component driven Exponential Smoothing method among several options available"
   ]
  },
  {
   "cell_type": "code",
   "execution_count": 22,
   "metadata": {},
   "outputs": [
    {
     "name": "stderr",
     "output_type": "stream",
     "text": [
      "Warning message in ets(close_tr_ts, damped = FALSE, allow.multiplicative.trend = TRUE):\n",
      "\"I can't handle data with frequency greater than 24. Seasonality will be ignored. Try stlf() if you need seasonal forecasts.\""
     ]
    },
    {
     "data": {
      "text/plain": [
       "ETS(M,M,N) \n",
       "\n",
       "Call:\n",
       " ets(y = close_tr_ts, damped = FALSE, allow.multiplicative.trend = TRUE) \n",
       "\n",
       "  Smoothing parameters:\n",
       "    alpha = 0.9473 \n",
       "    beta  = 0.0218 \n",
       "\n",
       "  Initial states:\n",
       "    l = 138.5493 \n",
       "    b = 0.9992 \n",
       "\n",
       "  sigma:  0.0424\n",
       "\n",
       "     AIC     AICc      BIC \n",
       "20508.17 20508.21 20534.92 "
      ]
     },
     "metadata": {},
     "output_type": "display_data"
    }
   ],
   "source": [
    "close_ets <- ets(close_tr_ts, damped=FALSE, allow.multiplicative.trend=TRUE)\n",
    "close_ets"
   ]
  },
  {
   "cell_type": "code",
   "execution_count": 23,
   "metadata": {},
   "outputs": [
    {
     "data": {
      "text/html": [
       "<table>\n",
       "<thead><tr><th></th><th scope=col>ME</th><th scope=col>RMSE</th><th scope=col>MAE</th><th scope=col>MPE</th><th scope=col>MAPE</th><th scope=col>ACF1</th><th scope=col>Theil's U</th></tr></thead>\n",
       "<tbody>\n",
       "\t<tr><th scope=row>Test set</th><td>169.6478 </td><td>281.2822 </td><td>209.8717 </td><td>5.067698 </td><td>6.548465 </td><td>0.5587581</td><td>1.680426 </td></tr>\n",
       "</tbody>\n",
       "</table>\n"
      ],
      "text/latex": [
       "\\begin{tabular}{r|lllllll}\n",
       "  & ME & RMSE & MAE & MPE & MAPE & ACF1 & Theil's U\\\\\n",
       "\\hline\n",
       "\tTest set & 169.6478  & 281.2822  & 209.8717  & 5.067698  & 6.548465  & 0.5587581 & 1.680426 \\\\\n",
       "\\end{tabular}\n"
      ],
      "text/markdown": [
       "\n",
       "| <!--/--> | ME | RMSE | MAE | MPE | MAPE | ACF1 | Theil's U | \n",
       "|---|\n",
       "| Test set | 169.6478  | 281.2822  | 209.8717  | 5.067698  | 6.548465  | 0.5587581 | 1.680426  | \n",
       "\n",
       "\n"
      ],
      "text/plain": [
       "         ME       RMSE     MAE      MPE      MAPE     ACF1      Theil's U\n",
       "Test set 169.6478 281.2822 209.8717 5.067698 6.548465 0.5587581 1.680426 "
      ]
     },
     "metadata": {},
     "output_type": "display_data"
    }
   ],
   "source": [
    "close_ets_preds = data.frame(predict(close_ets, h= nrow(close_val_df)))\n",
    "accuracy(close_ets_preds$Point.Forecast, close_val_ts)"
   ]
  },
  {
   "cell_type": "markdown",
   "metadata": {},
   "source": [
    "* Finally a BIG improvement w.r.t Point.Forecast\n",
    "* Our last best RMSE for point forecast was $ 328\n",
    "* ets() chose an Exponential Smoothing model with Multiplicative Level, Multiplicative Trend and Seasonality Absent.\n",
    "* Note that we had set the trend dampening to be FALSE, let us set it to be true, although intuitively is should not help because our previous model was under-estimating the values.\n",
    "* Before that lets quickly check the RMSE with Upper 95 CL as our forecasts"
   ]
  },
  {
   "cell_type": "code",
   "execution_count": 24,
   "metadata": {},
   "outputs": [
    {
     "data": {
      "text/html": [
       "<table>\n",
       "<thead><tr><th></th><th scope=col>ME</th><th scope=col>RMSE</th><th scope=col>MAE</th><th scope=col>MPE</th><th scope=col>MAPE</th><th scope=col>ACF1</th><th scope=col>Theil's U</th></tr></thead>\n",
       "<tbody>\n",
       "\t<tr><th scope=row>Test set</th><td>-305.036 </td><td>322.8162 </td><td>305.036  </td><td>-10.48964</td><td>10.48964 </td><td>0.225983 </td><td>2.014339 </td></tr>\n",
       "</tbody>\n",
       "</table>\n"
      ],
      "text/latex": [
       "\\begin{tabular}{r|lllllll}\n",
       "  & ME & RMSE & MAE & MPE & MAPE & ACF1 & Theil's U\\\\\n",
       "\\hline\n",
       "\tTest set & -305.036  & 322.8162  & 305.036   & -10.48964 & 10.48964  & 0.225983  & 2.014339 \\\\\n",
       "\\end{tabular}\n"
      ],
      "text/markdown": [
       "\n",
       "| <!--/--> | ME | RMSE | MAE | MPE | MAPE | ACF1 | Theil's U | \n",
       "|---|\n",
       "| Test set | -305.036  | 322.8162  | 305.036   | -10.48964 | 10.48964  | 0.225983  | 2.014339  | \n",
       "\n",
       "\n"
      ],
      "text/plain": [
       "         ME       RMSE     MAE     MPE       MAPE     ACF1     Theil's U\n",
       "Test set -305.036 322.8162 305.036 -10.48964 10.48964 0.225983 2.014339 "
      ]
     },
     "metadata": {},
     "output_type": "display_data"
    }
   ],
   "source": [
    "accuracy(close_ets_preds$Hi.95, close_val_ts)"
   ]
  },
  {
   "cell_type": "markdown",
   "metadata": {},
   "source": [
    "* RMSE has increased for Upper 95 CL. This is good. This means our model has improved and not under-estimated the forecasts.\n",
    "* Although, I soon found out that there is still some under estimation as Upper 80 CL gives an RMSE below 200.\n",
    "* This might be an indication that in the validation data we have, the values are slightly inflated. If we use Higher 80 CL, it might indicate an overfit of the current validation data.\n",
    "* So sticking to Point Forecasts as our actual forecasts will still be a better decision."
   ]
  },
  {
   "cell_type": "code",
   "execution_count": 25,
   "metadata": {},
   "outputs": [
    {
     "data": {
      "text/html": [
       "<table>\n",
       "<thead><tr><th></th><th scope=col>ME</th><th scope=col>RMSE</th><th scope=col>MAE</th><th scope=col>MPE</th><th scope=col>MAPE</th><th scope=col>ACF1</th><th scope=col>Theil's U</th></tr></thead>\n",
       "<tbody>\n",
       "\t<tr><th scope=row>Test set</th><td>-128.1982</td><td>193.1998 </td><td>165.9069 </td><td>-4.70026 </td><td>5.83816  </td><td>0.4495235</td><td>1.192402 </td></tr>\n",
       "</tbody>\n",
       "</table>\n"
      ],
      "text/latex": [
       "\\begin{tabular}{r|lllllll}\n",
       "  & ME & RMSE & MAE & MPE & MAPE & ACF1 & Theil's U\\\\\n",
       "\\hline\n",
       "\tTest set & -128.1982 & 193.1998  & 165.9069  & -4.70026  & 5.83816   & 0.4495235 & 1.192402 \\\\\n",
       "\\end{tabular}\n"
      ],
      "text/markdown": [
       "\n",
       "| <!--/--> | ME | RMSE | MAE | MPE | MAPE | ACF1 | Theil's U | \n",
       "|---|\n",
       "| Test set | -128.1982 | 193.1998  | 165.9069  | -4.70026  | 5.83816   | 0.4495235 | 1.192402  | \n",
       "\n",
       "\n"
      ],
      "text/plain": [
       "         ME        RMSE     MAE      MPE      MAPE    ACF1      Theil's U\n",
       "Test set -128.1982 193.1998 165.9069 -4.70026 5.83816 0.4495235 1.192402 "
      ]
     },
     "metadata": {},
     "output_type": "display_data"
    }
   ],
   "source": [
    "accuracy(close_ets_preds$Hi.80, close_val_ts)"
   ]
  },
  {
   "cell_type": "markdown",
   "metadata": {},
   "source": [
    "* Foolowing is Search for best Component Exponential Smoothing model with **trend DAMPNING**\n",
    "* As expected, the model does not help much."
   ]
  },
  {
   "cell_type": "code",
   "execution_count": 26,
   "metadata": {},
   "outputs": [
    {
     "name": "stderr",
     "output_type": "stream",
     "text": [
      "Warning message in ets(close_tr_ts, damped = TRUE, allow.multiplicative.trend = TRUE):\n",
      "\"I can't handle data with frequency greater than 24. Seasonality will be ignored. Try stlf() if you need seasonal forecasts.\""
     ]
    },
    {
     "data": {
      "text/html": [
       "<table>\n",
       "<thead><tr><th></th><th scope=col>ME</th><th scope=col>RMSE</th><th scope=col>MAE</th><th scope=col>MPE</th><th scope=col>MAPE</th><th scope=col>ACF1</th><th scope=col>Theil's U</th></tr></thead>\n",
       "<tbody>\n",
       "\t<tr><th scope=row>Test set</th><td>201.227  </td><td>312.9744 </td><td>233.6084 </td><td>6.085012 </td><td>7.278193 </td><td>0.5662424</td><td>1.869645 </td></tr>\n",
       "</tbody>\n",
       "</table>\n"
      ],
      "text/latex": [
       "\\begin{tabular}{r|lllllll}\n",
       "  & ME & RMSE & MAE & MPE & MAPE & ACF1 & Theil's U\\\\\n",
       "\\hline\n",
       "\tTest set & 201.227   & 312.9744  & 233.6084  & 6.085012  & 7.278193  & 0.5662424 & 1.869645 \\\\\n",
       "\\end{tabular}\n"
      ],
      "text/markdown": [
       "\n",
       "| <!--/--> | ME | RMSE | MAE | MPE | MAPE | ACF1 | Theil's U | \n",
       "|---|\n",
       "| Test set | 201.227   | 312.9744  | 233.6084  | 6.085012  | 7.278193  | 0.5662424 | 1.869645  | \n",
       "\n",
       "\n"
      ],
      "text/plain": [
       "         ME      RMSE     MAE      MPE      MAPE     ACF1      Theil's U\n",
       "Test set 201.227 312.9744 233.6084 6.085012 7.278193 0.5662424 1.869645 "
      ]
     },
     "metadata": {},
     "output_type": "display_data"
    }
   ],
   "source": [
    "close_ets_damped <- ets(close_tr_ts, damped=TRUE, allow.multiplicative.trend=TRUE)\n",
    "close_ets_damped_preds = data.frame(predict(close_ets_damped, h= nrow(close_val_df)))\n",
    "accuracy(close_ets_damped_preds$Point.Forecast, close_val_ts)"
   ]
  },
  {
   "cell_type": "markdown",
   "metadata": {},
   "source": [
    "<a id=\"optparam5\"></a>\n",
    "\n",
    "## 5. ARIMA Modelling\n",
    "\n",
    "* So the best results thus far has been ETS(M,M,N) Model - $ 281 RMSE.\n",
    "* Let us try to better it using ARIMA models.\n",
    "* ARIMA models use the past observations and past errors to create extremely flexible forecasting systems\n",
    "* We will use a non-seasonal ARIMA model"
   ]
  },
  {
   "cell_type": "code",
   "execution_count": 27,
   "metadata": {},
   "outputs": [
    {
     "data": {
      "text/plain": [
       "Series: close_tr_ts \n",
       "ARIMA(3,2,0) \n",
       "\n",
       "Coefficients:\n",
       "          ar1      ar2      ar3\n",
       "      -0.7579  -0.5192  -0.2873\n",
       "s.e.   0.0243   0.0283   0.0245\n",
       "\n",
       "sigma^2 estimated as 1730:  log likelihood=-7992.15\n",
       "AIC=15992.3   AICc=15992.32   BIC=16013.69"
      ]
     },
     "metadata": {},
     "output_type": "display_data"
    }
   ],
   "source": [
    "(close_arima <- auto.arima(close_tr_ts))"
   ]
  },
  {
   "cell_type": "code",
   "execution_count": 28,
   "metadata": {},
   "outputs": [
    {
     "data": {
      "text/html": [
       "<table>\n",
       "<thead><tr><th></th><th scope=col>ME</th><th scope=col>RMSE</th><th scope=col>MAE</th><th scope=col>MPE</th><th scope=col>MAPE</th><th scope=col>ACF1</th><th scope=col>Theil's U</th></tr></thead>\n",
       "<tbody>\n",
       "\t<tr><th scope=row>Test set</th><td>88.00693 </td><td>219.4182 </td><td>179.0843 </td><td>2.391043 </td><td>5.721041 </td><td>0.5410355</td><td>1.309949 </td></tr>\n",
       "</tbody>\n",
       "</table>\n"
      ],
      "text/latex": [
       "\\begin{tabular}{r|lllllll}\n",
       "  & ME & RMSE & MAE & MPE & MAPE & ACF1 & Theil's U\\\\\n",
       "\\hline\n",
       "\tTest set & 88.00693  & 219.4182  & 179.0843  & 2.391043  & 5.721041  & 0.5410355 & 1.309949 \\\\\n",
       "\\end{tabular}\n"
      ],
      "text/markdown": [
       "\n",
       "| <!--/--> | ME | RMSE | MAE | MPE | MAPE | ACF1 | Theil's U | \n",
       "|---|\n",
       "| Test set | 88.00693  | 219.4182  | 179.0843  | 2.391043  | 5.721041  | 0.5410355 | 1.309949  | \n",
       "\n",
       "\n"
      ],
      "text/plain": [
       "         ME       RMSE     MAE      MPE      MAPE     ACF1      Theil's U\n",
       "Test set 88.00693 219.4182 179.0843 2.391043 5.721041 0.5410355 1.309949 "
      ]
     },
     "metadata": {},
     "output_type": "display_data"
    }
   ],
   "source": [
    "close_arima_preds = close_arima %>% forecast(h= nrow(close_val_df)) %>% data.frame()\n",
    "accuracy(close_arima_preds$Point.Forecast, close_val_ts)"
   ]
  },
  {
   "cell_type": "markdown",
   "metadata": {},
   "source": [
    "* We can see that AUTO.ARIMA() selected an ARIMA model with p = 3, d = 2 and q = 0.\n",
    "* RMSE is also the best we have had so far, $ 220.\n",
    "\n",
    "#### In the second notebook we will try to\n",
    "1. Come up with our own ARIMA parameters and see if the performance increases\n",
    "2. run LSTM Neural Networks to see if the performance increases"
   ]
  }
 ],
 "metadata": {
  "kernelspec": {
   "display_name": "R",
   "language": "R",
   "name": "ir"
  },
  "language_info": {
   "codemirror_mode": "r",
   "file_extension": ".r",
   "mimetype": "text/x-r-source",
   "name": "R",
   "pygments_lexer": "r",
   "version": "3.4.2"
  }
 },
 "nbformat": 4,
 "nbformat_minor": 2
}
